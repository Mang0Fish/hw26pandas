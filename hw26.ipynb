{
 "cells": [
  {
   "cell_type": "code",
   "execution_count": 1,
   "id": "9d77ba99-7095-4a73-9f7b-875ccead958e",
   "metadata": {},
   "outputs": [],
   "source": [
    "import numpy as np\n",
    "import pandas as pd"
   ]
  },
  {
   "cell_type": "code",
   "execution_count": 127,
   "id": "d144baa3-0beb-4d1f-befe-9c05341b32f3",
   "metadata": {},
   "outputs": [
    {
     "name": "stdout",
     "output_type": "stream",
     "text": [
      "<class 'pandas.core.frame.DataFrame'>\n",
      "RangeIndex: 3333 entries, 0 to 3332\n",
      "Data columns (total 20 columns):\n",
      " #   Column                  Non-Null Count  Dtype  \n",
      "---  ------                  --------------  -----  \n",
      " 0   State                   3333 non-null   object \n",
      " 1   Account length          3333 non-null   int64  \n",
      " 2   Area code               3333 non-null   int64  \n",
      " 3   International plan      3333 non-null   object \n",
      " 4   Voice mail plan         3333 non-null   object \n",
      " 5   Number vmail messages   3333 non-null   int64  \n",
      " 6   Total day minutes       3323 non-null   float64\n",
      " 7   Total day calls         3323 non-null   float64\n",
      " 8   Total day charge        3315 non-null   float64\n",
      " 9   Total eve minutes       3324 non-null   float64\n",
      " 10  Total eve calls         3325 non-null   float64\n",
      " 11  Total eve charge        3333 non-null   float64\n",
      " 12  Total night minutes     3333 non-null   float64\n",
      " 13  Total night calls       3332 non-null   float64\n",
      " 14  Total night charge      3333 non-null   float64\n",
      " 15  Total intl minutes      3333 non-null   float64\n",
      " 16  Total intl calls        3333 non-null   int64  \n",
      " 17  Total intl charge       3328 non-null   float64\n",
      " 18  Customer service calls  3328 non-null   float64\n",
      " 19  Churn                   3325 non-null   object \n",
      "dtypes: float64(12), int64(4), object(4)\n",
      "memory usage: 520.9+ KB\n"
     ]
    }
   ],
   "source": [
    "works = pd.read_csv('hw_work.csv')\n",
    "works.info()\n",
    "\n",
    "#There are 3333 rows and 20 columns, memory usage: 520.9+ KB, Total day charge has some missing values\n",
    "\n",
    "works.describe()\n",
    "#Max = 243, min = 1, mean = 101.06, count = 3333\n",
    "works.transpose()\n",
    "works.head(5)\n",
    "works.tail(5)\n",
    "works['State']\n",
    "works[['State', 'International plan']]\n",
    "(works['International plan'] == 'Yes')\n",
    "(works['International plan'] == 'Yes') & (works['Churn'] == True)\n",
    "works.iloc[14]\n",
    "works.iloc[14:]\n",
    "works.set_index(works['State']).loc['LA']\n",
    "works.drop(index = 3328, axis = 1)\n",
    "works['total_min'] = works['Total intl minutes'] + works['Total night minutes']\n",
    "works['total_min_avg'] = (works['Total intl minutes'] + works['Total night minutes']) / 2\n",
    "newWorks = pd.concat([works.head(1) + works.tail(1)], ignore_index=True)\n",
    "milon = {'name':'dor','age':18}\n",
    "pdMilon = pd.DataFrame([milon])\n",
    "oneRow = pd.concat([pdMilon],ignore_index= True)\n",
    "#The meaning of inplace is to replace the existing csv with the changes you committed\n",
    "#18 Yes\n",
    "# axis 0 is indexes, 1 is columns\n",
    "# & is and, | is or, ~ is not, Isin is in, between is if the value is between certain values"
   ]
  },
  {
   "cell_type": "code",
   "execution_count": null,
   "id": "627987c0-1414-4022-8457-bc7086ca99f3",
   "metadata": {},
   "outputs": [],
   "source": []
  }
 ],
 "metadata": {
  "kernelspec": {
   "display_name": "Python 3 (ipykernel)",
   "language": "python",
   "name": "python3"
  },
  "language_info": {
   "codemirror_mode": {
    "name": "ipython",
    "version": 3
   },
   "file_extension": ".py",
   "mimetype": "text/x-python",
   "name": "python",
   "nbconvert_exporter": "python",
   "pygments_lexer": "ipython3",
   "version": "3.12.7"
  }
 },
 "nbformat": 4,
 "nbformat_minor": 5
}
